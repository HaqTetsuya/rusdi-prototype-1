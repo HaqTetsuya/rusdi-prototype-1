{
  "nbformat": 4,
  "nbformat_minor": 0,
  "metadata": {
    "colab": {
      "provenance": [],
      "authorship_tag": "ABX9TyO0YfXL7agPYsT7ayZ9TuHD",
      "include_colab_link": true
    },
    "kernelspec": {
      "name": "python3",
      "display_name": "Python 3"
    },
    "language_info": {
      "name": "python"
    }
  },
  "cells": [
    {
      "cell_type": "markdown",
      "metadata": {
        "id": "view-in-github",
        "colab_type": "text"
      },
      "source": [
        "<a href=\"https://colab.research.google.com/github/HaqTetsuya/rusdi-prototype-1/blob/main/test_fuzzy_string.ipynb\" target=\"_parent\"><img src=\"https://colab.research.google.com/assets/colab-badge.svg\" alt=\"Open In Colab\"/></a>"
      ]
    },
    {
      "cell_type": "code",
      "source": [
        "!pip install rapidfuzz"
      ],
      "metadata": {
        "id": "skzhgvRJ7-F8"
      },
      "execution_count": null,
      "outputs": []
    },
    {
      "cell_type": "code",
      "execution_count": null,
      "metadata": {
        "id": "HXSwtG9b68bR"
      },
      "outputs": [],
      "source": [
        "from rapidfuzz import fuzz\n",
        "\n",
        "# Step 1: Entities Dictionary\n",
        "entities = {\n",
        "    \"wifi\": [\"wifi\", \"internet\"],\n",
        "    \"ruang_baca\": [\"ruang baca\", \"reading room\"],\n",
        "    \"ruang_diskusi\": [\"ruang diskusi\", \"discussion room\"],\n",
        "    \"komputer\": [\"komputer\", \"PC umum\"],\n",
        "    \"kantin\": [\"kantin\", \"cafeteria\"],\n",
        "    \"toilet\": [\"toilet\", \"kamar mandi\"],\n",
        "    \"mushola\": [\"mushola\", \"tempat sholat\"],\n",
        "    \"parkir\": [\"parkiran\", \"tempat parkir\"],\n",
        "    \"printer\": [\"printer\", \"fotokopi\", \"scanner\"],\n",
        "}\n",
        "\n",
        "# Step 2: Updated Fuzzy Extraction (Multiple Entities)\n",
        "def extract_entities_fuzzy(user_text, entities, threshold=80):\n",
        "    user_text = user_text.lower()\n",
        "    detected_entities = set()\n",
        "\n",
        "    for entity_name, keywords in entities.items():\n",
        "        for keyword in keywords:\n",
        "            score = fuzz.partial_ratio(keyword, user_text)\n",
        "            if score >= threshold:\n",
        "                detected_entities.add(entity_name)\n",
        "                break  # satu keyword match sudah cukup untuk satu entity\n",
        "\n",
        "    return list(detected_entities)\n",
        "\n",
        "# Step 3: Handler (return array of entities)\n",
        "def handle_facility_intent(user_text):\n",
        "    detected_entities = extract_entities_fuzzy(user_text, entities)\n",
        "    return detected_entities\n",
        "\n",
        "# Step 4: Testing\n",
        "test_messages = [\n",
        "    \"Apakah ada wiffi gratis?\",\n",
        "    \"Saya mau ke ruang diskus dan ruang baca\",\n",
        "    \"Apakah ada komputer buat umum dan toilet di sini?\",\n",
        "    \"Dimana saya bisa fotocopy dan print?\",\n",
        "    \"Ada cafetaria dan mushola?\",\n",
        "    \"Saya ingin tahu tentang parkir dan internet\",\n",
        "]\n",
        "\n",
        "for msg in test_messages:\n",
        "    print(f\"User: {msg}\")\n",
        "    print(f\"Detected Entities: {handle_facility_intent(msg)}\\n\")\n"
      ]
    }
  ]
}